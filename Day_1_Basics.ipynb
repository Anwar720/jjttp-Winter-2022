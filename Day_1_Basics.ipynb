{
  "nbformat": 4,
  "nbformat_minor": 0,
  "metadata": {
    "colab": {
      "name": "Day 1 Basics.ipynb",
      "provenance": [],
      "collapsed_sections": [],
      "authorship_tag": "ABX9TyOHTfZztSG/3QQreUC5i0dp",
      "include_colab_link": true
    },
    "kernelspec": {
      "name": "python3",
      "display_name": "Python 3"
    },
    "language_info": {
      "name": "python"
    }
  },
  "cells": [
    {
      "cell_type": "markdown",
      "metadata": {
        "id": "view-in-github",
        "colab_type": "text"
      },
      "source": [
        "<a href=\"https://colab.research.google.com/github/Anwar720/jjttp-Winter-2022/blob/main/Day_1_Basics.ipynb\" target=\"_parent\"><img src=\"https://colab.research.google.com/assets/colab-badge.svg\" alt=\"Open In Colab\"/></a>"
      ]
    },
    {
      "cell_type": "code",
      "source": [
        "# Hello python"
      ],
      "metadata": {
        "id": "qo0Th-B-0GPS"
      },
      "execution_count": 19,
      "outputs": []
    },
    {
      "cell_type": "code",
      "execution_count": 20,
      "metadata": {
        "colab": {
          "base_uri": "https://localhost:8080/"
        },
        "id": "VMmaTvXEh7UL",
        "outputId": "9228d1cc-4153-45d4-b7f7-b2b89c96fba8"
      },
      "outputs": [
        {
          "output_type": "stream",
          "name": "stdout",
          "text": [
            "Hello There\n"
          ]
        }
      ],
      "source": [
        "print('Hello There')"
      ]
    },
    {
      "cell_type": "code",
      "source": [
        "import this"
      ],
      "metadata": {
        "id": "nFpPMAXdimOR"
      },
      "execution_count": 21,
      "outputs": []
    },
    {
      "cell_type": "markdown",
      "source": [
        "# string Basics \n"
      ],
      "metadata": {
        "id": "ZsuW-Igji3pO"
      }
    },
    {
      "cell_type": "code",
      "source": [
        "# control + m + m -->to create a text cell"
      ],
      "metadata": {
        "id": "WdZ6rtfO1QzK"
      },
      "execution_count": 22,
      "outputs": []
    },
    {
      "cell_type": "code",
      "source": [
        "'This is a string'"
      ],
      "metadata": {
        "colab": {
          "base_uri": "https://localhost:8080/",
          "height": 35
        },
        "id": "oft7sxrG0g5f",
        "outputId": "6926b04a-4f8e-4335-84ec-7262952dd6cf"
      },
      "execution_count": 23,
      "outputs": [
        {
          "output_type": "execute_result",
          "data": {
            "application/vnd.google.colaboratory.intrinsic+json": {
              "type": "string"
            },
            "text/plain": [
              "'This is a string'"
            ]
          },
          "metadata": {},
          "execution_count": 23
        }
      ]
    },
    {
      "cell_type": "code",
      "source": [
        "a = \"This is the 1st string\"\n",
        "len(a)"
      ],
      "metadata": {
        "colab": {
          "base_uri": "https://localhost:8080/"
        },
        "id": "-5uIlMJV015y",
        "outputId": "069becc2-3859-4128-dfe9-5282a89cb021"
      },
      "execution_count": 24,
      "outputs": [
        {
          "output_type": "execute_result",
          "data": {
            "text/plain": [
              "22"
            ]
          },
          "metadata": {},
          "execution_count": 24
        }
      ]
    },
    {
      "cell_type": "code",
      "source": [
        "b = 'This is the 2nd string'\n",
        "len(b)"
      ],
      "metadata": {
        "colab": {
          "base_uri": "https://localhost:8080/"
        },
        "id": "HdIURMEQ079I",
        "outputId": "7174741e-3291-4b01-b93f-197ab014fd29"
      },
      "execution_count": 25,
      "outputs": [
        {
          "output_type": "execute_result",
          "data": {
            "text/plain": [
              "22"
            ]
          },
          "metadata": {},
          "execution_count": 25
        }
      ]
    },
    {
      "cell_type": "code",
      "source": [
        "c = 'This is th3 3rd string'\n",
        "len(c)"
      ],
      "metadata": {
        "colab": {
          "base_uri": "https://localhost:8080/"
        },
        "id": "To_dnC3f0-T_",
        "outputId": "883a8b94-e1af-42f6-fee6-6d0988cb84c3"
      },
      "execution_count": 26,
      "outputs": [
        {
          "output_type": "execute_result",
          "data": {
            "text/plain": [
              "22"
            ]
          },
          "metadata": {},
          "execution_count": 26
        }
      ]
    },
    {
      "cell_type": "code",
      "source": [
        "d = 'This is the 4th string'\n",
        "len(d)"
      ],
      "metadata": {
        "colab": {
          "base_uri": "https://localhost:8080/"
        },
        "id": "grAxBH7K1A4B",
        "outputId": "12fe8ad4-f8a2-4df7-9d87-6f3072e523bc"
      },
      "execution_count": 27,
      "outputs": [
        {
          "output_type": "execute_result",
          "data": {
            "text/plain": [
              "22"
            ]
          },
          "metadata": {},
          "execution_count": 27
        }
      ]
    },
    {
      "cell_type": "code",
      "source": [
        "e = 'This is the 5th string'\n",
        "len(e)"
      ],
      "metadata": {
        "colab": {
          "base_uri": "https://localhost:8080/"
        },
        "id": "gPhyga5a1D95",
        "outputId": "e5ec0410-61ff-4407-f791-c93216849bc9"
      },
      "execution_count": 28,
      "outputs": [
        {
          "output_type": "execute_result",
          "data": {
            "text/plain": [
              "22"
            ]
          },
          "metadata": {},
          "execution_count": 28
        }
      ]
    },
    {
      "cell_type": "code",
      "source": [
        "len('This is the 4th string')"
      ],
      "metadata": {
        "colab": {
          "base_uri": "https://localhost:8080/"
        },
        "id": "E76oFVdk1F2B",
        "outputId": "4375d8b9-559c-47e9-c426-943189cb0e34"
      },
      "execution_count": 29,
      "outputs": [
        {
          "output_type": "execute_result",
          "data": {
            "text/plain": [
              "22"
            ]
          },
          "metadata": {},
          "execution_count": 29
        }
      ]
    },
    {
      "cell_type": "code",
      "source": [
        "s = 'This is a string'\n",
        "len(s)"
      ],
      "metadata": {
        "colab": {
          "base_uri": "https://localhost:8080/"
        },
        "id": "cIPqD95-1iRX",
        "outputId": "28142f8d-a7c4-4e1d-8219-912193fdf8e5"
      },
      "execution_count": 30,
      "outputs": [
        {
          "output_type": "execute_result",
          "data": {
            "text/plain": [
              "16"
            ]
          },
          "metadata": {},
          "execution_count": 30
        }
      ]
    },
    {
      "cell_type": "markdown",
      "source": [
        "## String Indexing\n",
        " Python can use indexes to call parts of the sequence.Let's learn how this works. \n",
        " \n",
        "In Python,we use brackets [] after an object to call its index. We should also note that indexing starts at 0 for Python. Let's create a new object called s and the walk through a few examples of indexing."
      ],
      "metadata": {
        "id": "N48Qk8mB1vnk"
      }
    },
    {
      "cell_type": "code",
      "source": [
        "s = 'This is a string'\n",
        "s[0]"
      ],
      "metadata": {
        "colab": {
          "base_uri": "https://localhost:8080/",
          "height": 35
        },
        "id": "wMH28bIC7XPI",
        "outputId": "7f379f20-3514-49c8-a5e4-30f22a4de148"
      },
      "execution_count": 31,
      "outputs": [
        {
          "output_type": "execute_result",
          "data": {
            "application/vnd.google.colaboratory.intrinsic+json": {
              "type": "string"
            },
            "text/plain": [
              "'T'"
            ]
          },
          "metadata": {},
          "execution_count": 31
        }
      ]
    },
    {
      "cell_type": "markdown",
      "source": [
        "## concatenaton of string's "
      ],
      "metadata": {
        "id": "qICAHGc18eeQ"
      }
    },
    {
      "cell_type": "code",
      "source": [
        "greeting  = 'Hello'\n",
        "name = 'Mark'\n",
        "print(greeting + name)\n",
        "print(greeting + ' '+ name)\n",
        "print(greeting+' '+ str(7))"
      ],
      "metadata": {
        "colab": {
          "base_uri": "https://localhost:8080/"
        },
        "id": "drtL-2OpcUET",
        "outputId": "4b29d9d4-1fa6-4e63-ad9e-b1d48a9e71f2"
      },
      "execution_count": 33,
      "outputs": [
        {
          "output_type": "stream",
          "name": "stdout",
          "text": [
            "HelloMark\n",
            "Hello Mark\n",
            "Hello 7\n"
          ]
        }
      ]
    },
    {
      "cell_type": "markdown",
      "source": [
        "#input Function"
      ],
      "metadata": {
        "id": "2L4CFlsycgEt"
      }
    },
    {
      "cell_type": "code",
      "source": [
        "greeeting = 'Hello '\n",
        "name = input('What is your name ? ')\n",
        "print(greeting + name) "
      ],
      "metadata": {
        "colab": {
          "base_uri": "https://localhost:8080/"
        },
        "id": "yeRMwp7ld6ig",
        "outputId": "b8b37d37-8b08-44c0-866f-0f3273e2dc48"
      },
      "execution_count": 35,
      "outputs": [
        {
          "output_type": "stream",
          "name": "stdout",
          "text": [
            "What is your name ? general\n",
            "Hellogeneral\n"
          ]
        }
      ]
    },
    {
      "cell_type": "code",
      "source": [
        "name = input('What is your name? ')\n",
        "age = input('What is your age ? ')\n",
        "city = input('What is your city ? ')\n",
        "print(greeting + name + ' age '+ age + ' from '+ city )\n",
        "print(f'Hi there {name} from {city} and age {age}')"
      ],
      "metadata": {
        "colab": {
          "base_uri": "https://localhost:8080/"
        },
        "id": "aKLLl2kfePi9",
        "outputId": "6fcbd7d5-3266-473a-b29a-7b7f8aa30d34"
      },
      "execution_count": 38,
      "outputs": [
        {
          "output_type": "stream",
          "name": "stdout",
          "text": [
            "What is your name? aj\n",
            "What is your age ? 21\n",
            "What is your city ? Brooklyn\n",
            "Helloaj age 21 from Brooklyn\n",
            "Hi there aj from Brooklyn of age 21\n"
          ]
        }
      ]
    },
    {
      "cell_type": "code",
      "source": [
        "print(\"The colors are {}, {} and {}\".format(\"red\",\"Green\",\"Blue\"))\n"
      ],
      "metadata": {
        "colab": {
          "base_uri": "https://localhost:8080/"
        },
        "id": "89OcskRjfeMY",
        "outputId": "34a0f7ca-0609-460a-9c19-ef10a89f61eb"
      },
      "execution_count": 41,
      "outputs": [
        {
          "output_type": "stream",
          "name": "stdout",
          "text": [
            "The colors are red, Green and Blue\n"
          ]
        }
      ]
    },
    {
      "cell_type": "code",
      "source": [
        "print(\"The colors are {r},{g} and {b}\".format(r='red',g='green',b='blue'))"
      ],
      "metadata": {
        "colab": {
          "base_uri": "https://localhost:8080/"
        },
        "id": "b_BMQLmPh25C",
        "outputId": "c6e0e929-a431-4de0-9d35-6ff7ba930c01"
      },
      "execution_count": 44,
      "outputs": [
        {
          "output_type": "stream",
          "name": "stdout",
          "text": [
            "The colors are red,green and blue\n"
          ]
        }
      ]
    },
    {
      "cell_type": "markdown",
      "source": [
        "##Numbers"
      ],
      "metadata": {
        "id": "AHdDtaGOi8L2"
      }
    },
    {
      "cell_type": "code",
      "source": [
        "a = 12\n",
        "print(a)\n",
        "# assigning integer and printing the value"
      ],
      "metadata": {
        "colab": {
          "base_uri": "https://localhost:8080/"
        },
        "id": "jg2hcegxi8ov",
        "outputId": "2526ebc8-5008-49a2-f809-c01b51f0551d"
      },
      "execution_count": 45,
      "outputs": [
        {
          "output_type": "stream",
          "name": "stdout",
          "text": [
            "12\n"
          ]
        }
      ]
    },
    {
      "cell_type": "code",
      "source": [
        "b = 5\n",
        "print(a+b)\n",
        "#Printing the sum of a and b"
      ],
      "metadata": {
        "colab": {
          "base_uri": "https://localhost:8080/"
        },
        "id": "3jXYamP1i87Q",
        "outputId": "36b602da-72b6-45be-df66-5a4360756a86"
      },
      "execution_count": 46,
      "outputs": [
        {
          "output_type": "stream",
          "name": "stdout",
          "text": [
            "17\n"
          ]
        }
      ]
    },
    {
      "cell_type": "code",
      "source": [
        "print(a // b)"
      ],
      "metadata": {
        "colab": {
          "base_uri": "https://localhost:8080/"
        },
        "id": "sPQKIZIQi9QF",
        "outputId": "0924d7d6-7886-4a83-dd27-f48bab853bb3"
      },
      "execution_count": 47,
      "outputs": [
        {
          "output_type": "stream",
          "name": "stdout",
          "text": [
            "2\n"
          ]
        }
      ]
    },
    {
      "cell_type": "code",
      "source": [
        "print( a % b)"
      ],
      "metadata": {
        "id": "Z9WOM9fkka2H"
      },
      "execution_count": null,
      "outputs": []
    }
  ]
}